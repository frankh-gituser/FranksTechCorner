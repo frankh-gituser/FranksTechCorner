{
 "cells": [
  {
   "cell_type": "markdown",
   "id": "f133767c-4b15-4643-bc56-ade1e25c1c33",
   "metadata": {},
   "source": [
    "### [zurück zum Index](../index.md)\n",
    "\n",
    "### Erste Quanten Schaltkreise (Gates)\n",
    "\n",
    "## Ihr erster Quantenschaltkreis\n",
    "\n",
    "In einem Schaltkreis müssen wir normalerweise drei Aufgaben erledigen: \n",
    "\n",
    "1. Zunächst muss die Eingabe kodiert werden,\n",
    "2. dann folgt die eigentliche Berechnung, \n",
    "3. und schließlich wird eine Ausgabe extrahiert. \n",
    "\n",
    "Der erste  Quantenschaltkreis konzentriert sich auf den letzten Punkt\n",
    "\n",
    "Begonnen wird  mit der Erstellung eines Quantenschaltkreises mit 3 Qubits und 3 Ausgängen."
   ]
  },
  {
   "cell_type": "code",
   "execution_count": 1,
   "id": "2aaee7b7-b5e7-4845-91f3-a74edee92863",
   "metadata": {},
   "outputs": [
    {
     "name": "stderr",
     "output_type": "stream",
     "text": [
      "<frozen importlib._bootstrap>:219: RuntimeWarning: scipy._lib.messagestream.MessageStream size changed, may indicate binary incompatibility. Expected 56 from C header, got 64 from PyObject\n"
     ]
    }
   ],
   "source": [
    "import numpy as np\n",
    "\n",
    "# Importing standard Qiskit libraries\n",
    "from qiskit import QuantumCircuit, transpile, Aer, IBMQ\n",
    "from qiskit.tools.jupyter import *\n",
    "from qiskit.visualization import *\n",
    "from ibm_quantum_widgets import *\n",
    "from qiskit.providers.aer import QasmSimulator\n",
    "\n",
    "# Loading your IBM Quantum account(s)\n",
    "provider = IBMQ.load_account()"
   ]
  },
  {
   "cell_type": "code",
   "execution_count": 2,
   "id": "48ca6305-4705-4005-9a5e-540598898ba5",
   "metadata": {},
   "outputs": [],
   "source": [
    "import qiskit\n",
    "from qiskit import ClassicalRegister, QuantumRegister, QuantumCircuit\n",
    "from qiskit import execute, BasicAer, Aer\n",
    "from qiskit.tools.visualization import plot_histogram, circuit_drawer\n",
    "\n",
    "from qiskit.visualization import plot_state_qsphere\n",
    "from qiskit.visualization import plot_bloch_multivector, array_to_latex\n",
    "from numpy import sqrt, pi"
   ]
  },
  {
   "cell_type": "code",
   "execution_count": 3,
   "id": "40e86227-8404-42ee-87b7-217e286f8b37",
   "metadata": {},
   "outputs": [
    {
     "data": {
      "image/png": "[encoded data removed]",
      "text/plain": [
       "<Figure size 116.697x204.68 with 1 Axes>"
      ]
     },
     "metadata": {},
     "output_type": "display_data"
    },
    {
     "data": {
      "image/png": "[encoded data removed]",
      "text/plain": [
       "<Figure size 116.697x264.88 with 1 Axes>"
      ]
     },
     "metadata": {},
     "output_type": "display_data"
    }
   ],
   "source": [
    "qc = QuantumCircuit(3)\n",
    "display(qc.draw('mpl'))\n",
    "\n",
    "qc = QuantumCircuit(3,3)\n",
    "display(qc.draw('mpl'))"
   ]
  },
  {
   "cell_type": "markdown",
   "id": "e77523bd-9d94-4095-a910-d27b24d9df01",
   "metadata": {},
   "source": [
    "Schließlich erstellt die Methode qc.draw() eine Zeichnung der Schaltung für uns. \n",
    "\n",
    "Jupyter Notebooks werten die letzte Zeile einer Codezelle aus und zeigen sie unterhalb der Zelle an. \n",
    "\n",
    "Da \"qc.draw()\" eine Zeichnung zurückgibt, ist es das, was wir unter dem Code sehen. \n",
    "In unserem Schaltkreis gibt es noch keine Gatter, also sehen wir nur einige horizontale Linien.\n",
    "\n",
    "#### Python basics (what’s a method?)\n",
    "\n",
    "    Die Klasse QuantumCircuit ist ein Satz von Anweisungen zur Darstellung von Quantenschaltungen als Bits, \n",
    "    aber wenn wir eine dieser Schaltungen ändern wollen, müssen wir auch wissen, wie wir die Bits \n",
    "    entsprechend ändern können. \n",
    "\n",
    "    In Python gibt es für Objekte \"Methoden\", d.h. eine Reihe von Anweisungen, um etwas mit dem Objekt zu tun. \n",
    "\n",
    "    In der obigen Zelle betrachtet die Methode .draw() den Schaltkreis, den wir erstellt haben, und \n",
    "    erstellt eine für Menschen lesbare Zeichnung dieses Schaltkreises.\n",
    "\n",
    "\n",
    "Als Nächstes brauchen wir eine Möglichkeit, unseren Quantencomputer anzuweisen, unsere Qubits zu messen und die \n",
    "Ergebnisse aufzuzeichnen. \n",
    "Zu diesem Zweck fügen wir unserem Quantenschaltkreis eine \"Mess\"-Operation hinzu. \n",
    "Wir können dies mit der Methode .measure() des QuantumCircuit tun.\n"
   ]
  },
  {
   "cell_type": "markdown",
   "id": "cb7b6645-fcf9-4776-b2ce-3055a6780e88",
   "metadata": {},
   "source": [
    "Als Nächstes brauchen wir eine Möglichkeit, unseren Quantencomputer anzuweisen, unsere Qubits zu messen und die \n",
    "Ergebnisse aufzuzeichnen. \n",
    "Zu diesem Zweck fügen wir unserem Quantenschaltkreis eine \"Mess\"-Operation hinzu. \n",
    "Wir können dies mit der Methode .measure() des QuantumCircuit tun."
   ]
  },
  {
   "cell_type": "code",
   "execution_count": 6,
   "id": "a51317f2-18f8-4e34-85b8-3c5c19d4035b",
   "metadata": {},
   "outputs": [
    {
     "data": {
      "image/png": "[encoded data removed]",
      "text/plain": [
       "<Figure size 267.197x264.88 with 1 Axes>"
      ]
     },
     "execution_count": 6,
     "metadata": {},
     "output_type": "execute_result"
    }
   ],
   "source": [
    "from qiskit import QuantumCircuit\n",
    "qc = QuantumCircuit(3, 3)\n",
    "# measure qubits 0, 1 & 2 to classical bits 0, 1 & 2 respectively\n",
    "qc.measure([0,1,2], [0,1,2])\n",
    "qc.draw()"
   ]
  },
  {
   "cell_type": "markdown",
   "id": "96f1d2a0-adc5-4eb5-a623-9ac1e7a41b49",
   "metadata": {},
   "source": [
    "Als Nächstes wollen wir sehen, welche Ergebnisse ein Betrieb dieser Schaltung bringen würde. \n",
    "Dazu verwenden wir einen Quantensimulator, also einen Standardcomputer,\n",
    "der berechnet, was ein idealer Quantencomputer tun würde.\n",
    "\n",
    "Die Simulation eines Quantencomputers gilt für klassische Computer als schwierig,da die besten \n",
    "Algorithmen, die wir haben, exponentiell mit der Anzahl der Qubits wachsen. \n",
    "Daher sind diese Simulationen nur für Schaltkreise mit einer geringen Anzahl von \n",
    "Qubits (bis zu ~30 Qubits) oder für bestimmte Arten von Schaltkreisen, für die wir einige Tricks anwenden \n",
    "können, um die Simulation zu beschleunigen. \n",
    "Dennoch sind Simulatoren sehr nützliche Werkzeuge für den Entwurf kleinerer Quantenschaltungen.\n",
    "\n",
    "\n",
    "Der Simulator von Qiskit nennt sich \" Aer\" und wir erstellen zunächst  ein neues Simulator-Objekt."
   ]
  },
  {
   "cell_type": "code",
   "execution_count": null,
   "id": "eeaaae45-9534-4b64-86da-bed542bc178a",
   "metadata": {},
   "outputs": [],
   "source": []
  },
  {
   "cell_type": "code",
   "execution_count": 8,
   "id": "4fe2c387-7051-40a1-8950-b99401553aba",
   "metadata": {},
   "outputs": [],
   "source": [
    "from qiskit.providers.aer import AerSimulator\n",
    "sim = AerSimulator()  # make new simulator object"
   ]
  },
  {
   "cell_type": "markdown",
   "id": "9839b2e0-7fc3-4373-8fe6-24075f366cb5",
   "metadata": {},
   "source": [
    "Um die Simulation durchzuführen, können wir die Methode .run() des Simulators verwenden. \n",
    "Diese gibt einen \"Job\" zurück, der Informationen über das Experiment enthält,\n",
    "z.B. ob das Experiment läuft oder abgeschlossen ist, das Backend, auf dem es ausgeführt wurde, und \n",
    "(was für uns wichtig ist) die Ergebnisse des Experiments.\n",
    "\n",
    "Um die Ergebnisse des Auftrags abzurufen, verwenden wir die Methode \"Results\".\n",
    "Die beliebteste Art, die Ergebnisse zu betrachten, ist ein Wörterbuch mit \"Zählungen\"."
   ]
  },
  {
   "cell_type": "code",
   "execution_count": 9,
   "id": "b083a6e3-66e1-4268-a93f-17adb5e56323",
   "metadata": {},
   "outputs": [
    {
     "data": {
      "text/plain": [
       "{'000': 1024}"
      ]
     },
     "execution_count": 9,
     "metadata": {},
     "output_type": "execute_result"
    }
   ],
   "source": [
    "job = sim.run(qc)      # run the experiment\n",
    "result = job.result()  # get the results\n",
    "result.get_counts()    # interpret the results as a \"counts\" dictionary"
   ]
  },
  {
   "cell_type": "markdown",
   "id": "5f175def-f354-4d38-ae96-7157b6ea1303",
   "metadata": {},
   "source": [
    "Die Schlüssel im Zählwörterbuch sind Bit-Strings, und die Werte sind die Anzahl der Messungen dieses Bit-Strings. \n",
    "Bei Quantencomputern können die Ergebnisse zufällig sein, daher ist es üblich, die Schaltung einige Male zu wiederholen. \n",
    "Diese Schaltung wurde 1024 Mal wiederholt, was die Standardanzahl für die Wiederholung einer Schaltung in Qiskit ist. \n",
    "\n",
    "Konventionell beginnen Qubits immer im Zustand 0, und da wir vor der Messung nichts mit ihnen machen, sind die \n",
    "Ergebnisse immer 0."
   ]
  }
 ],
 "metadata": {
  "kernelspec": {
   "display_name": "Python 3 (ipykernel)",
   "language": "python",
   "name": "python3"
  },
  "language_info": {
   "codemirror_mode": {
    "name": "ipython",
    "version": 3
   },
   "file_extension": ".py",
   "mimetype": "text/x-python",
   "name": "python",
   "nbconvert_exporter": "python",
   "pygments_lexer": "ipython3",
   "version": "3.8.15"
  },
  "widgets": {
   "application/vnd.jupyter.widget-state+json": {
    "state": {
     "02bd158b13054b858931a99fa11b4397": {
      "model_module": "@jupyter-widgets/base",
      "model_module_version": "1.2.0",
      "model_name": "LayoutModel",
      "state": {}
     },
     "0621d0c2cd584720b9bf1bc016966fca": {
      "model_module": "@jupyter-widgets/controls",
      "model_module_version": "1.5.0",
      "model_name": "DescriptionStyleModel",
      "state": {
       "description_width": ""
      }
     },
     "153b026c830b4ddb937f947073e16dc2": {
      "model_module": "@jupyter-widgets/controls",
      "model_module_version": "1.5.0",
      "model_name": "HTMLModel",
      "state": {
       "layout": "IPY_MODEL_02bd158b13054b858931a99fa11b4397",
       "style": "IPY_MODEL_0621d0c2cd584720b9bf1bc016966fca",
       "value": "<h5>Message</h5>"
      }
     },
     "190977c16b1f4fcfb5c5c31b68409383": {
      "model_module": "@jupyter-widgets/base",
      "model_module_version": "1.2.0",
      "model_name": "LayoutModel",
      "state": {
       "margin": "0px 0px 10px 0px"
      }
     },
     "19575a95e9c84f05bd6859f9daa8c576": {
      "model_module": "@jupyter-widgets/controls",
      "model_module_version": "1.5.0",
      "model_name": "DescriptionStyleModel",
      "state": {
       "description_width": ""
      }
     },
     "24244ff4b9204318a8228bb31aa07d0a": {
      "model_module": "@jupyter-widgets/controls",
      "model_module_version": "1.5.0",
      "model_name": "DescriptionStyleModel",
      "state": {
       "description_width": ""
      }
     },
     "2823064ba1a749b1ad1b9a2b493ca0fb": {
      "model_module": "@jupyter-widgets/base",
      "model_module_version": "1.2.0",
      "model_name": "LayoutModel",
      "state": {
       "grid_area": "right",
       "padding": "0px 0px 0px 0px",
       "width": "70px"
      }
     },
     "2d66902923d44ad3892a41e1d81a44c0": {
      "model_module": "@jupyter-widgets/controls",
      "model_module_version": "1.5.0",
      "model_name": "DescriptionStyleModel",
      "state": {
       "description_width": ""
      }
     },
     "39706595320a4d29a401f44deef31480": {
      "model_module": "@jupyter-widgets/base",
      "model_module_version": "1.2.0",
      "model_name": "LayoutModel",
      "state": {
       "grid_template_areas": "\n                                       \". . . . right \"\n                                        ",
       "grid_template_columns": "20% 20% 20% 20% 20%",
       "width": "100%"
      }
     },
     "47b1d386ff86421c987796bdd548667e": {
      "model_module": "@jupyter-widgets/base",
      "model_module_version": "1.2.0",
      "model_name": "LayoutModel",
      "state": {
       "width": "70px"
      }
     },
     "50e1e36656a549d7997ecacac5f65887": {
      "model_module": "@jupyter-widgets/base",
      "model_module_version": "1.2.0",
      "model_name": "LayoutModel",
      "state": {
       "width": "190px"
      }
     },
     "632113341a414caa92340369470b5c04": {
      "model_module": "@jupyter-widgets/base",
      "model_module_version": "1.2.0",
      "model_name": "LayoutModel",
      "state": {
       "width": "95px"
      }
     },
     "685e026148d9421f8cf69726df1d5e92": {
      "model_module": "@jupyter-widgets/controls",
      "model_module_version": "1.5.0",
      "model_name": "ButtonModel",
      "state": {
       "button_style": "primary",
       "description": "Clear",
       "layout": "IPY_MODEL_2823064ba1a749b1ad1b9a2b493ca0fb",
       "style": "IPY_MODEL_950edc0a894b4eb8838899ffb24db324"
      }
     },
     "76fcc8eaa23d4fb897a8a54b7ebebd76": {
      "model_module": "@jupyter-widgets/controls",
      "model_module_version": "1.5.0",
      "model_name": "DescriptionStyleModel",
      "state": {
       "description_width": ""
      }
     },
     "876d088e8f2548c5bfbbfaca6f19ca68": {
      "model_module": "@jupyter-widgets/base",
      "model_module_version": "1.2.0",
      "model_name": "LayoutModel",
      "state": {
       "width": "145px"
      }
     },
     "950edc0a894b4eb8838899ffb24db324": {
      "model_module": "@jupyter-widgets/controls",
      "model_module_version": "1.5.0",
      "model_name": "ButtonStyleModel",
      "state": {}
     },
     "99829d5fd43140d6995c2fe851c17867": {
      "model_module": "@jupyter-widgets/controls",
      "model_module_version": "1.5.0",
      "model_name": "HTMLModel",
      "state": {
       "layout": "IPY_MODEL_47b1d386ff86421c987796bdd548667e",
       "style": "IPY_MODEL_dddbd5fbe6e84d42a5635120b6afecd2",
       "value": "<h5>Queue</h5>"
      }
     },
     "b45415527e404949965afd53ccc2f65f": {
      "model_module": "@jupyter-widgets/controls",
      "model_module_version": "1.5.0",
      "model_name": "HTMLModel",
      "state": {
       "layout": "IPY_MODEL_190977c16b1f4fcfb5c5c31b68409383",
       "style": "IPY_MODEL_76fcc8eaa23d4fb897a8a54b7ebebd76",
       "value": "<p style='font-family: IBM Plex Sans, Arial, Helvetica, sans-serif; font-size: 20px; font-weight: medium;'>Circuit Properties</p>"
      }
     },
     "c97fe4a7f2fa42d4856cb50652244833": {
      "model_module": "@jupyter-widgets/controls",
      "model_module_version": "1.5.0",
      "model_name": "HTMLModel",
      "state": {
       "layout": "IPY_MODEL_50e1e36656a549d7997ecacac5f65887",
       "style": "IPY_MODEL_2d66902923d44ad3892a41e1d81a44c0",
       "value": "<h5>Job ID</h5>"
      }
     },
     "dbcb39ce968241828b0446a0af0c8a66": {
      "model_module": "@jupyter-widgets/controls",
      "model_module_version": "1.5.0",
      "model_name": "HBoxModel",
      "state": {
       "children": [
        "IPY_MODEL_c97fe4a7f2fa42d4856cb50652244833",
        "IPY_MODEL_e20ec59d0aac49949bbf392b5a36d53a",
        "IPY_MODEL_eed113fac68e430e9261e8522dfe3549",
        "IPY_MODEL_99829d5fd43140d6995c2fe851c17867",
        "IPY_MODEL_153b026c830b4ddb937f947073e16dc2"
       ],
       "layout": "IPY_MODEL_de0f5f6f3494458882632991760c5a8c"
      }
     },
     "dddbd5fbe6e84d42a5635120b6afecd2": {
      "model_module": "@jupyter-widgets/controls",
      "model_module_version": "1.5.0",
      "model_name": "DescriptionStyleModel",
      "state": {
       "description_width": ""
      }
     },
     "de0f5f6f3494458882632991760c5a8c": {
      "model_module": "@jupyter-widgets/base",
      "model_module_version": "1.2.0",
      "model_name": "LayoutModel",
      "state": {
       "margin": "0px 0px 0px 37px",
       "width": "600px"
      }
     },
     "e20ec59d0aac49949bbf392b5a36d53a": {
      "model_module": "@jupyter-widgets/controls",
      "model_module_version": "1.5.0",
      "model_name": "HTMLModel",
      "state": {
       "layout": "IPY_MODEL_876d088e8f2548c5bfbbfaca6f19ca68",
       "style": "IPY_MODEL_24244ff4b9204318a8228bb31aa07d0a",
       "value": "<h5>Backend</h5>"
      }
     },
     "ed303d16c843490080f118b8badaf597": {
      "model_module": "@jupyter-widgets/controls",
      "model_module_version": "1.5.0",
      "model_name": "GridBoxModel",
      "state": {
       "children": [
        "IPY_MODEL_685e026148d9421f8cf69726df1d5e92"
       ],
       "layout": "IPY_MODEL_39706595320a4d29a401f44deef31480"
      }
     },
     "eed113fac68e430e9261e8522dfe3549": {
      "model_module": "@jupyter-widgets/controls",
      "model_module_version": "1.5.0",
      "model_name": "HTMLModel",
      "state": {
       "layout": "IPY_MODEL_632113341a414caa92340369470b5c04",
       "style": "IPY_MODEL_19575a95e9c84f05bd6859f9daa8c576",
       "value": "<h5>Status</h5>"
      }
     }
    },
    "version_major": 2,
    "version_minor": 0
   }
  }
 },
 "nbformat": 4,
 "nbformat_minor": 5
}
